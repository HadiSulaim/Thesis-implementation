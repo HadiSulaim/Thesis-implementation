{
 "cells": [
  {
   "cell_type": "code",
   "execution_count": 1,
   "metadata": {},
   "outputs": [
    {
     "name": "stdout",
     "output_type": "stream",
     "text": [
      "Coordinates: (469, 137)\n",
      "Coordinates: (537, 368)\n",
      "Coordinates: (466, 372)\n"
     ]
    }
   ],
   "source": [
    "import cv2\n",
    "\n",
    "def click_event(event, x, y, flags, param):\n",
    "    if event == cv2.EVENT_LBUTTONDOWN:\n",
    "        print(f\"Coordinates: ({x}, {y})\")\n",
    "        font = cv2.FONT_HERSHEY_SIMPLEX\n",
    "        cv2.putText(img, f\"{x},{y}\", (x,y), font, 0.5, (255, 0, 0), 1)\n",
    "        cv2.imshow('image', img)\n",
    "\n",
    "img = cv2.imread('images/capture.jpg')\n",
    "cv2.imshow('image', img)\n",
    "cv2.setMouseCallback('image', click_event)\n",
    "cv2.waitKey(0)\n",
    "cv2.destroyAllWindows()"
   ]
  },
  {
   "cell_type": "code",
   "execution_count": 2,
   "metadata": {},
   "outputs": [
    {
     "name": "stdout",
     "output_type": "stream",
     "text": [
      "Coordinates: (451, 289)\n",
      "Coordinates: (429, 367)\n",
      "Coordinates: (472, 370)\n",
      "Coordinates: (477, 491)\n",
      "Coordinates: (448, 322)\n"
     ]
    }
   ],
   "source": [
    "import cv2\n",
    "\n",
    "def click_event(event, x, y, flags, param):\n",
    "    if event == cv2.EVENT_LBUTTONDOWN:\n",
    "        print(f\"Coordinates: ({x}, {y})\")\n",
    "        font = cv2.FONT_HERSHEY_SIMPLEX\n",
    "        cv2.putText(img, f\"{x},{y}\", (x,y), font, 0.5, (255, 0, 0), 1)\n",
    "        cv2.imshow('image', img)\n",
    "\n",
    "img = cv2.imread(r'C:\\Users\\user1\\Desktop\\Thesis OT\\OT_implementation\\segment-anything-2\\notebooks\\videos\\video5\\00001.jpg')\n",
    "cv2.imshow('image', img)\n",
    "cv2.setMouseCallback('image', click_event)\n",
    "cv2.waitKey(0)\n",
    "cv2.destroyAllWindows()"
   ]
  },
  {
   "cell_type": "code",
   "execution_count": 1,
   "metadata": {},
   "outputs": [
    {
     "name": "stdout",
     "output_type": "stream",
     "text": [
      "Coordinates: (517, 266)\n",
      "Coordinates: (547, 374)\n"
     ]
    }
   ],
   "source": [
    "import cv2\n",
    "\n",
    "def click_event(event, x, y, flags, param):\n",
    "    if event == cv2.EVENT_LBUTTONDOWN:\n",
    "        print(f\"Coordinates: ({x}, {y})\")\n",
    "        font = cv2.FONT_HERSHEY_SIMPLEX\n",
    "        cv2.putText(img, f\"{x},{y}\", (x,y), font, 0.5, (255, 0, 0), 1)\n",
    "        cv2.imshow('image', img)\n",
    "\n",
    "img = cv2.imread(r'C:\\Users\\user1\\Desktop\\Thesis OT\\OT_implementation\\segment-anything-2\\notebooks\\videos\\video5\\00115.jpg')\n",
    "cv2.imshow('image', img)\n",
    "cv2.setMouseCallback('image', click_event)\n",
    "cv2.waitKey(0)\n",
    "cv2.destroyAllWindows()"
   ]
  },
  {
   "cell_type": "code",
   "execution_count": 1,
   "metadata": {},
   "outputs": [
    {
     "name": "stdout",
     "output_type": "stream",
     "text": [
      "Coordinates: (443, 325)\n",
      "Coordinates: (439, 460)\n",
      "Coordinates: (62, 379)\n"
     ]
    }
   ],
   "source": [
    "import cv2\n",
    "\n",
    "def click_event(event, x, y, flags, param):\n",
    "    if event == cv2.EVENT_LBUTTONDOWN:\n",
    "        print(f\"Coordinates: ({x}, {y})\")\n",
    "        font = cv2.FONT_HERSHEY_SIMPLEX\n",
    "        cv2.putText(img, f\"{x},{y}\", (x,y), font, 0.5, (255, 0, 0), 1)\n",
    "        cv2.imshow('image', img)\n",
    "\n",
    "img = cv2.imread(r'C:\\Users\\user1\\Desktop\\Thesis OT\\OT_implementation\\segment-anything-2\\notebooks\\videos\\test\\00000.jpg')\n",
    "cv2.imshow('image', img)\n",
    "cv2.setMouseCallback('image', click_event)\n",
    "cv2.waitKey(0)\n",
    "cv2.destroyAllWindows()"
   ]
  },
  {
   "cell_type": "code",
   "execution_count": null,
   "metadata": {},
   "outputs": [],
   "source": []
  }
 ],
 "metadata": {
  "kernelspec": {
   "display_name": "sam2",
   "language": "python",
   "name": "python3"
  },
  "language_info": {
   "codemirror_mode": {
    "name": "ipython",
    "version": 3
   },
   "file_extension": ".py",
   "mimetype": "text/x-python",
   "name": "python",
   "nbconvert_exporter": "python",
   "pygments_lexer": "ipython3",
   "version": "3.12.7"
  }
 },
 "nbformat": 4,
 "nbformat_minor": 2
}
