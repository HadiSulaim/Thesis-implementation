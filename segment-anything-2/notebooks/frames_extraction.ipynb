{
 "cells": [
  {
   "cell_type": "code",
   "execution_count": 1,
   "metadata": {},
   "outputs": [
    {
     "name": "stdout",
     "output_type": "stream",
     "text": [
      "Requirement already satisfied: opencv-python in c:\\users\\user1\\anaconda3\\envs\\sam2\\lib\\site-packages (4.10.0.84)\n",
      "Requirement already satisfied: numpy>=1.21.2 in c:\\users\\user1\\anaconda3\\envs\\sam2\\lib\\site-packages (from opencv-python) (2.1.2)\n"
     ]
    }
   ],
   "source": [
    "!pip install opencv-python"
   ]
  },
  {
   "cell_type": "code",
   "execution_count": null,
   "metadata": {},
   "outputs": [],
   "source": [
    "import cv2\n",
    "\n",
    "# Path to the video file\n",
    "video_path = 'C:/Users/user1/Desktop/Object_Tracking_Implementation/SAM2/segment-anything-2/notebooks/videos/street.mp4'\n",
    "\n",
    "# Open the video file\n",
    "cap = cv2.VideoCapture(video_path)\n",
    "\n",
    "if not cap.isOpened():\n",
    "    print(\"Error: Could not open video.\")\n",
    "    exit()\n",
    "\n",
    "# Read and display the video frames\n",
    "while True:\n",
    "    ret, frame = cap.read()\n",
    "    if not ret:\n",
    "        break\n",
    "\n",
    "    # Display the frame\n",
    "    cv2.imshow('Video', frame)\n",
    "\n",
    "    # Press 'q' to exit the video display\n",
    "    if cv2.waitKey(25) & 0xFF == ord('q'):\n",
    "        break\n",
    "\n",
    "# Release the video capture object and close display window\n",
    "cap.release()\n",
    "cv2.destroyAllWindows()"
   ]
  },
  {
   "cell_type": "code",
   "execution_count": 4,
   "metadata": {},
   "outputs": [
    {
     "name": "stdout",
     "output_type": "stream",
     "text": [
      "Frames saved in C:/Users/user1/Desktop/Object_Tracking_Implementation/SAM2/segment-anything-2/notebooks/videos\n"
     ]
    }
   ],
   "source": [
    "import cv2\n",
    "import os\n",
    "\n",
    "# Path to the video file\n",
    "video_path = 'C:/Users/user1/Desktop/Object_Tracking_Implementation/SAM2/segment-anything-2/notebooks/videos/street.mp4'\n",
    "\n",
    "# Directory to save frames\n",
    "output_dir = os.path.dirname(video_path)  # Save in the same directory as the video\n",
    "\n",
    "# Open the video file\n",
    "cap = cv2.VideoCapture(video_path)\n",
    "\n",
    "if not cap.isOpened():\n",
    "    print(\"Error: Could not open video.\")\n",
    "    exit()\n",
    "\n",
    "frame_index = 0\n",
    "while True:\n",
    "    ret, frame = cap.read()\n",
    "    if not ret:\n",
    "        break\n",
    "\n",
    "    # Save the frame as a JPEG file\n",
    "    frame_filename = os.path.join(output_dir, f'{frame_index:05d}.jpg')\n",
    "    cv2.imwrite(frame_filename, frame)\n",
    "\n",
    "    frame_index += 1\n",
    "\n",
    "# Release the video capture object\n",
    "cap.release()\n",
    "\n",
    "print(f'Frames saved in {output_dir}')"
   ]
  },
  {
   "cell_type": "code",
   "execution_count": 5,
   "metadata": {},
   "outputs": [
    {
     "name": "stdout",
     "output_type": "stream",
     "text": [
      "Frames saved in C:/Users/user1/Desktop/Object_Tracking_Implementation/SAM2/segment-anything-2/notebooks/videos\\street\n"
     ]
    }
   ],
   "source": [
    "import cv2\n",
    "import os\n",
    "\n",
    "# Path to the video file\n",
    "video_path = 'C:/Users/user1/Desktop/Object_Tracking_Implementation/SAM2/segment-anything-2/notebooks/videos/street.mp4'\n",
    "\n",
    "# Extract the video filename without extension to use as the folder name\n",
    "video_name = os.path.splitext(os.path.basename(video_path))[0]\n",
    "\n",
    "# Directory to save frames\n",
    "output_dir = os.path.join(os.path.dirname(video_path), video_name)\n",
    "\n",
    "# Create the directory if it doesn't exist\n",
    "if not os.path.exists(output_dir):\n",
    "    os.makedirs(output_dir)\n",
    "\n",
    "# Open the video file\n",
    "cap = cv2.VideoCapture(video_path)\n",
    "\n",
    "if not cap.isOpened():\n",
    "    print(\"Error: Could not open video.\")\n",
    "    exit()\n",
    "\n",
    "frame_index = 0\n",
    "while True:\n",
    "    ret, frame = cap.read()\n",
    "    if not ret:\n",
    "        break\n",
    "\n",
    "    # Save the frame as a JPEG file\n",
    "    frame_filename = os.path.join(output_dir, f'{frame_index:05d}.jpg')\n",
    "    cv2.imwrite(frame_filename, frame)\n",
    "\n",
    "    frame_index += 1\n",
    "\n",
    "# Release the video capture object\n",
    "cap.release()\n",
    "\n",
    "print(f'Frames saved in {output_dir}')"
   ]
  },
  {
   "cell_type": "code",
   "execution_count": 1,
   "metadata": {},
   "outputs": [
    {
     "name": "stdout",
     "output_type": "stream",
     "text": [
      "Coordinates: (424, 84)\n",
      "Coordinates: (310, 252)\n",
      "Coordinates: (306, 393)\n"
     ]
    }
   ],
   "source": [
    "import cv2\n",
    "\n",
    "def click_event(event, x, y, flags, param):\n",
    "    if event == cv2.EVENT_LBUTTONDOWN:\n",
    "        print(f\"Coordinates: ({x}, {y})\")\n",
    "        font = cv2.FONT_HERSHEY_SIMPLEX\n",
    "        cv2.putText(img, f\"{x},{y}\", (x,y), font, 0.5, (255, 0, 0), 1)\n",
    "        cv2.imshow('image', img)\n",
    "\n",
    "img = cv2.imread('images/capture.jpg')\n",
    "cv2.imshow('image', img)\n",
    "cv2.setMouseCallback('image', click_event)\n",
    "cv2.waitKey(0)\n",
    "cv2.destroyAllWindows()"
   ]
  },
  {
   "cell_type": "code",
   "execution_count": 3,
   "metadata": {},
   "outputs": [
    {
     "name": "stdout",
     "output_type": "stream",
     "text": [
      "Coordinates: (910, 484)\n",
      "Coordinates: (824, 314)\n",
      "Coordinates: (742, 307)\n"
     ]
    }
   ],
   "source": [
    "import cv2\n",
    "\n",
    "def click_event(event, x, y, flags, param):\n",
    "    if event == cv2.EVENT_LBUTTONDOWN:\n",
    "        print(f\"Coordinates: ({x}, {y})\")\n",
    "        font = cv2.FONT_HERSHEY_SIMPLEX\n",
    "        cv2.putText(img, f\"{x},{y}\", (x,y), font, 0.5, (255, 0, 0), 1)\n",
    "        cv2.imshow('image', img)\n",
    "\n",
    "img = cv2.imread(r'C:\\Users\\user1\\Desktop\\Object_Tracking_Implementation\\SAM2\\segment-anything-2\\notebooks\\videos\\stret\\00000.jpg')\n",
    "cv2.imshow('image', img)\n",
    "cv2.setMouseCallback('image', click_event)\n",
    "cv2.waitKey(0)\n",
    "cv2.destroyAllWindows()"
   ]
  },
  {
   "cell_type": "code",
   "execution_count": 1,
   "metadata": {},
   "outputs": [
    {
     "name": "stdout",
     "output_type": "stream",
     "text": [
      "Frames saved in C:/Users/user1/Desktop/Object_Tracking_Implementation/SAM2/segment-anything-2/notebooks/videos\\video5\n"
     ]
    }
   ],
   "source": [
    "import cv2\n",
    "import os\n",
    "\n",
    "# Path to the video file\n",
    "video_path = 'C:/Users/user1/Desktop/Object_Tracking_Implementation/SAM2/segment-anything-2/notebooks/videos/video5.mp4'\n",
    "\n",
    "# Extract the video filename without extension to use as the folder name\n",
    "video_name = os.path.splitext(os.path.basename(video_path))[0]\n",
    "\n",
    "# Directory to save frames\n",
    "output_dir = os.path.join(os.path.dirname(video_path), video_name)\n",
    "\n",
    "# Create the directory if it doesn't exist\n",
    "if not os.path.exists(output_dir):\n",
    "    os.makedirs(output_dir)\n",
    "\n",
    "# Open the video file\n",
    "cap = cv2.VideoCapture(video_path)\n",
    "\n",
    "if not cap.isOpened():\n",
    "    print(\"Error: Could not open video.\")\n",
    "    exit()\n",
    "\n",
    "frame_index = 0\n",
    "while True:\n",
    "    ret, frame = cap.read()\n",
    "    if not ret:\n",
    "        break\n",
    "\n",
    "    # Save the frame as a JPEG file\n",
    "    frame_filename = os.path.join(output_dir, f'{frame_index:05d}.jpg')\n",
    "    cv2.imwrite(frame_filename, frame)\n",
    "\n",
    "    frame_index += 1\n",
    "\n",
    "# Release the video capture object\n",
    "cap.release()\n",
    "\n",
    "print(f'Frames saved in {output_dir}')"
   ]
  },
  {
   "cell_type": "code",
   "execution_count": 4,
   "metadata": {},
   "outputs": [
    {
     "name": "stdout",
     "output_type": "stream",
     "text": [
      "Frames saved in C:/Users/user1/Desktop/Object_Tracking_Implementation/SAM2/segment-anything-2/notebooks/videos\\outputsam2_video5\n"
     ]
    }
   ],
   "source": [
    "import cv2\n",
    "import os\n",
    "\n",
    "# Path to the video file\n",
    "video_path = 'C:/Users/user1/Desktop/Object_Tracking_Implementation/SAM2/segment-anything-2/notebooks/videos/video5.mp4'\n",
    "\n",
    "# Extract the video filename without extension to use as the folder name\n",
    "video_name = os.path.splitext(os.path.basename(video_path))[0]\n",
    "\n",
    "# Directory to save frames\n",
    "output_dir = os.path.join(os.path.dirname(video_path), f'outputsam2_{video_name}')\n",
    "\n",
    "# Create the directory if it doesn't exist\n",
    "if not os.path.exists(output_dir):\n",
    "    os.makedirs(output_dir)\n",
    "\n",
    "# Open the video file\n",
    "cap = cv2.VideoCapture(video_path)\n",
    "\n",
    "if not cap.isOpened():\n",
    "    print(\"Error: Could not open video.\")\n",
    "    exit()\n",
    "\n",
    "frame_index = 0\n",
    "while True:\n",
    "    ret, frame = cap.read()\n",
    "    if not ret:\n",
    "        break\n",
    "\n",
    "    # Add a white bounding box around the frame\n",
    "    border_thickness = 190  # Thickness of the border\n",
    "    color = (255, 255, 255)  # White color in BGR\n",
    "    frame_with_border = cv2.copyMakeBorder(frame, border_thickness, border_thickness, border_thickness, border_thickness, cv2.BORDER_CONSTANT, value=color)\n",
    "\n",
    "    # Save the frame as a JPEG file with the desired naming format\n",
    "    frame_filename = os.path.join(output_dir, f'{frame_index:04d}.jpg')\n",
    "    cv2.imwrite(frame_filename, frame_with_border)\n",
    "\n",
    "    frame_index += 1\n",
    "\n",
    "# Release the video capture object\n",
    "cap.release()\n",
    "\n",
    "print(f'Frames saved in {output_dir}')"
   ]
  },
  {
   "cell_type": "code",
   "execution_count": null,
   "metadata": {},
   "outputs": [],
   "source": []
  }
 ],
 "metadata": {
  "kernelspec": {
   "display_name": "sam2",
   "language": "python",
   "name": "python3"
  },
  "language_info": {
   "codemirror_mode": {
    "name": "ipython",
    "version": 3
   },
   "file_extension": ".py",
   "mimetype": "text/x-python",
   "name": "python",
   "nbconvert_exporter": "python",
   "pygments_lexer": "ipython3",
   "version": "3.12.7"
  }
 },
 "nbformat": 4,
 "nbformat_minor": 2
}
